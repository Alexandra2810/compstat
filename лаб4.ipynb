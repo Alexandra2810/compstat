{
 "cells": [
  {
   "cell_type": "code",
   "execution_count": 1,
   "metadata": {},
   "outputs": [
    {
     "data": {
      "text/plain": [
       "<Figure size 640x480 with 1 Axes>"
      ]
     },
     "metadata": {},
     "output_type": "display_data"
    }
   ],
   "source": [
    "import matplotlib.pyplot as plt\n",
    "import numpy as np\n",
    "from scipy.stats import norm\n",
    "loc = 0.5\n",
    "scale= 0.3**0.5\n",
    "n=4\n",
    "x1 = np.arange(-4, n+1)\n",
    "y1= norm.cdf(x1, loc=loc, scale=scale)#теоретична  функція ймовірності - значення в точках з х1\n",
    "plt.plot(x1, y1)\n",
    "norm_rvs =norm.rvs(loc=loc, scale=scale, size=1000)\n",
    "my_list=[]\n",
    "\n",
    "for i in x1:\n",
    "    my_list.append(sum((norm_rvs)<i))\n",
    "#print(my_list)\n",
    "emp_cdf=np.array(my_list)/1000\n",
    "#print(emp_cdf)\n",
    "\n",
    "plt.plot(x1,emp_cdf, 'r')\n",
    "plt.show()"
   ]
  },
  {
   "cell_type": "code",
   "execution_count": 2,
   "metadata": {},
   "outputs": [
    {
     "name": "stdout",
     "output_type": "stream",
     "text": [
      "емпірична медіана 0.46498401391255806\n",
      "емпіричний нижній квартиль 0.11118140054452791\n",
      "емпіричний верхній квартиль 0.8711153079133319\n",
      "теоретична медіана 0.5\n",
      "теоретичний нижній квартиль 0.13056674901158155\n",
      "теоретичний верхній квартиль 0.8694332509884184\n"
     ]
    }
   ],
   "source": [
    "print('емпірична медіана', np.sort(norm_rvs)[500])\n",
    "print ('емпіричний нижній квартиль', np.sort(norm_rvs)[250])\n",
    "print ('емпіричний верхній квартиль', np.sort(norm_rvs)[750])\n",
    "print('теоретична медіана',  norm.ppf(0.5, loc=loc, scale=scale))\n",
    "print( 'теоретичний нижній квартиль', norm.ppf(0.25, loc=loc, scale=scale))\n",
    "print( 'теоретичний верхній квартиль', norm.ppf(0.75, loc=loc, scale=scale))"
   ]
  },
  {
   "cell_type": "code",
   "execution_count": 3,
   "metadata": {},
   "outputs": [
    {
     "data": {
      "image/png": "[encoded data removed]",
      "text/plain": [
       "<Figure size 432x288 with 1 Axes>"
      ]
     },
     "metadata": {
      "needs_background": "light"
     },
     "output_type": "display_data"
    }
   ],
   "source": [
    "#рахуємо та будуємо графічно довірчий інтервал\n",
    "def F_empir (x):\n",
    "    return(sum(x>norm_rvs)/1000)\n",
    "y3=[]\n",
    "y4=[]\n",
    "xp=1.36/(1000**0.5)\n",
    "for i in x1:\n",
    "    y3.append (F_empir (i)-xp)\n",
    "    y4.append (F_empir (i)+xp)\n",
    "y3=np.array(y3)\n",
    "y4=np.array(y4)  \n",
    "plt.plot(x1, y1)#будуєм синім графік теоретичної функції ймовірності \n",
    "plt.plot(x1,emp_cdf, 'r')#будуєм червоним графік емпіричної функції ймовірності (майже накладається на графік теоретичної)\n",
    "plt.plot(x1,y3, 'g')#будуєм зеленим нижню межу довірчого інтервалу\n",
    "plt.plot(x1,y4, 'y')#будуєм жовтим верхню межу довірчого інтервалу\n",
    "plt.show()"
   ]
  }
 ],
 "metadata": {
  "kernelspec": {
   "display_name": "Python 3",
   "language": "python",
   "name": "python3"
  },
  "language_info": {
   "codemirror_mode": {
    "name": "ipython",
    "version": 3
   },
   "file_extension": ".py",
   "mimetype": "text/x-python",
   "name": "python",
   "nbconvert_exporter": "python",
   "pygments_lexer": "ipython3",
   "version": "3.7.3"
  }
 },
 "nbformat": 4,
 "nbformat_minor": 2
}
